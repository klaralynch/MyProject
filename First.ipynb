{
 "cells": [
  {
   "cell_type": "code",
   "execution_count": 1,
   "id": "75948a61-eb00-4b50-8093-85bd6ad43e45",
   "metadata": {},
   "outputs": [],
   "source": [
    "import pandas as pd\n",
    "import matplotlib.pyplot as plt\n",
    "import seaborn as sns \n",
    "import numpy as np"
   ]
  },
  {
   "cell_type": "code",
   "execution_count": 2,
   "id": "e80fff49-c481-45b4-a34b-d174204c8a5b",
   "metadata": {},
   "outputs": [
    {
     "name": "stdout",
     "output_type": "stream",
     "text": [
      "  Company \\n(Maker-if known) Specific Bean Origin\\nor Bar Name   REF  \\\n",
      "0                   A. Morin                       Agua Grande  1876   \n",
      "1                   A. Morin                             Kpime  1676   \n",
      "2                   A. Morin                            Atsane  1676   \n",
      "3                   A. Morin                             Akata  1680   \n",
      "4                   A. Morin                            Quilla  1704   \n",
      "\n",
      "   Review\\nDate Cocoa\\nPercent Company\\nLocation  Rating Bean\\nType  \\\n",
      "0          2016            63%            France    3.75              \n",
      "1          2015            70%            France    2.75              \n",
      "2          2015            70%            France    3.00              \n",
      "3          2015            70%            France    3.50              \n",
      "4          2015            70%            France    3.50              \n",
      "\n",
      "  Broad Bean\\nOrigin  \n",
      "0           Sao Tome  \n",
      "1               Togo  \n",
      "2               Togo  \n",
      "3               Togo  \n",
      "4               Peru  \n"
     ]
    }
   ],
   "source": [
    "# Importing CSV file into DataFrame\n",
    "df_chocolate = pd.read_csv(\"flavors_of_cacao.csv\")\n",
    "print(df_chocolate.head())"
   ]
  },
  {
   "cell_type": "code",
   "execution_count": 3,
   "id": "a159b8d1-ec52-41a4-9d47-1373b7a373d6",
   "metadata": {},
   "outputs": [
    {
     "data": {
      "text/plain": [
       "Company \\n(Maker-if known)           0\n",
       "Specific Bean Origin\\nor Bar Name    0\n",
       "REF                                  0\n",
       "Review\\nDate                         0\n",
       "Cocoa\\nPercent                       0\n",
       "Company\\nLocation                    0\n",
       "Rating                               0\n",
       "Bean\\nType                           1\n",
       "Broad Bean\\nOrigin                   1\n",
       "dtype: int64"
      ]
     },
     "execution_count": 3,
     "metadata": {},
     "output_type": "execute_result"
    }
   ],
   "source": [
    "# Cleaning the data\n",
    "# Checking for missing data\n",
    "df_chocolate.isna().sum()"
   ]
  },
  {
   "cell_type": "code",
   "execution_count": 4,
   "id": "b4930123-e0dc-406e-bf1b-b37b23d3b8f2",
   "metadata": {},
   "outputs": [
    {
     "data": {
      "text/html": [
       "<div>\n",
       "<style scoped>\n",
       "    .dataframe tbody tr th:only-of-type {\n",
       "        vertical-align: middle;\n",
       "    }\n",
       "\n",
       "    .dataframe tbody tr th {\n",
       "        vertical-align: top;\n",
       "    }\n",
       "\n",
       "    .dataframe thead th {\n",
       "        text-align: right;\n",
       "    }\n",
       "</style>\n",
       "<table border=\"1\" class=\"dataframe\">\n",
       "  <thead>\n",
       "    <tr style=\"text-align: right;\">\n",
       "      <th></th>\n",
       "      <th>Company</th>\n",
       "      <th>Specific Bean Origin/Bar Name</th>\n",
       "      <th>REF</th>\n",
       "      <th>Review Date</th>\n",
       "      <th>Cocoa Percentage</th>\n",
       "      <th>Location</th>\n",
       "      <th>Rating</th>\n",
       "      <th>Bean Type</th>\n",
       "      <th>Broad Bean Origin</th>\n",
       "    </tr>\n",
       "  </thead>\n",
       "  <tbody>\n",
       "    <tr>\n",
       "      <th>0</th>\n",
       "      <td>A. Morin</td>\n",
       "      <td>Agua Grande</td>\n",
       "      <td>1876</td>\n",
       "      <td>2016</td>\n",
       "      <td>63%</td>\n",
       "      <td>France</td>\n",
       "      <td>3.75</td>\n",
       "      <td></td>\n",
       "      <td>Sao Tome</td>\n",
       "    </tr>\n",
       "    <tr>\n",
       "      <th>1</th>\n",
       "      <td>A. Morin</td>\n",
       "      <td>Kpime</td>\n",
       "      <td>1676</td>\n",
       "      <td>2015</td>\n",
       "      <td>70%</td>\n",
       "      <td>France</td>\n",
       "      <td>2.75</td>\n",
       "      <td></td>\n",
       "      <td>Togo</td>\n",
       "    </tr>\n",
       "    <tr>\n",
       "      <th>2</th>\n",
       "      <td>A. Morin</td>\n",
       "      <td>Atsane</td>\n",
       "      <td>1676</td>\n",
       "      <td>2015</td>\n",
       "      <td>70%</td>\n",
       "      <td>France</td>\n",
       "      <td>3.00</td>\n",
       "      <td></td>\n",
       "      <td>Togo</td>\n",
       "    </tr>\n",
       "    <tr>\n",
       "      <th>3</th>\n",
       "      <td>A. Morin</td>\n",
       "      <td>Akata</td>\n",
       "      <td>1680</td>\n",
       "      <td>2015</td>\n",
       "      <td>70%</td>\n",
       "      <td>France</td>\n",
       "      <td>3.50</td>\n",
       "      <td></td>\n",
       "      <td>Togo</td>\n",
       "    </tr>\n",
       "    <tr>\n",
       "      <th>4</th>\n",
       "      <td>A. Morin</td>\n",
       "      <td>Quilla</td>\n",
       "      <td>1704</td>\n",
       "      <td>2015</td>\n",
       "      <td>70%</td>\n",
       "      <td>France</td>\n",
       "      <td>3.50</td>\n",
       "      <td></td>\n",
       "      <td>Peru</td>\n",
       "    </tr>\n",
       "  </tbody>\n",
       "</table>\n",
       "</div>"
      ],
      "text/plain": [
       "    Company Specific Bean Origin/Bar Name   REF  Review Date Cocoa Percentage  \\\n",
       "0  A. Morin                   Agua Grande  1876         2016              63%   \n",
       "1  A. Morin                         Kpime  1676         2015              70%   \n",
       "2  A. Morin                        Atsane  1676         2015              70%   \n",
       "3  A. Morin                         Akata  1680         2015              70%   \n",
       "4  A. Morin                        Quilla  1704         2015              70%   \n",
       "\n",
       "  Location  Rating Bean Type Broad Bean Origin  \n",
       "0   France    3.75                    Sao Tome  \n",
       "1   France    2.75                        Togo  \n",
       "2   France    3.00                        Togo  \n",
       "3   France    3.50                        Togo  \n",
       "4   France    3.50                        Peru  "
      ]
     },
     "execution_count": 4,
     "metadata": {},
     "output_type": "execute_result"
    }
   ],
   "source": [
    "# Renaming columns\n",
    "df_chocolate.columns = [\"Company\", \"Specific Bean Origin/Bar Name\", \"REF\", \"Review Date\", \"Cocoa Percentage\", \"Location\", \"Rating\", \"Bean Type\", \"Broad Bean Origin\"]\n",
    "df_chocolate.head()"
   ]
  },
  {
   "cell_type": "code",
   "execution_count": 5,
   "id": "3ee36aea-1a56-40a5-991d-36196644bcc3",
   "metadata": {},
   "outputs": [
    {
     "data": {
      "text/plain": [
       "['\\xa0', '\\xa0', '\\xa0']"
      ]
     },
     "execution_count": 5,
     "metadata": {},
     "output_type": "execute_result"
    }
   ],
   "source": [
    "# Understanding blanks in 'Bean Type' column\n",
    "list(df_chocolate[\"Bean Type\"][0:3])"
   ]
  },
  {
   "cell_type": "code",
   "execution_count": 17,
   "id": "7966436b-d7c7-422c-8c30-e75524a88803",
   "metadata": {},
   "outputs": [
    {
     "name": "stdout",
     "output_type": "stream",
     "text": [
      "    Company Specific Bean Origin/Bar Name   REF  Review Date Cocoa Percentage  \\\n",
      "0  A. Morin                   Agua Grande  1876         2016              63%   \n",
      "1  A. Morin                         Kpime  1676         2015              70%   \n",
      "2  A. Morin                        Atsane  1676         2015              70%   \n",
      "3  A. Morin                         Akata  1680         2015              70%   \n",
      "4  A. Morin                        Quilla  1704         2015              70%   \n",
      "\n",
      "  Location  Rating Bean Type Broad Bean Origin  \n",
      "0   France    3.75       NaN          Sao Tome  \n",
      "1   France    2.75       NaN              Togo  \n",
      "2   France    3.00       NaN              Togo  \n",
      "3   France    3.50       NaN              Togo  \n",
      "4   France    3.50       NaN              Peru  \n"
     ]
    }
   ],
   "source": [
    "# Removing non-breaking space in 'Bean Type' column\n",
    "df_chocolate['Bean Type'].str.strip(\"\\xa0\")\n",
    "print(df_chocolate.head())"
   ]
  },
  {
   "cell_type": "code",
   "execution_count": 18,
   "id": "df9fb8b2-03b2-4815-beed-8e73a0c04d78",
   "metadata": {},
   "outputs": [
    {
     "data": {
      "text/plain": [
       "Company                            0\n",
       "Specific Bean Origin/Bar Name      0\n",
       "REF                                0\n",
       "Review Date                        0\n",
       "Cocoa Percentage                   0\n",
       "Location                           0\n",
       "Rating                             0\n",
       "Bean Type                        888\n",
       "Broad Bean Origin                 74\n",
       "dtype: int64"
      ]
     },
     "execution_count": 18,
     "metadata": {},
     "output_type": "execute_result"
    }
   ],
   "source": [
    "# Understanding Nulls in df_chocolate\n",
    "df_chocolate.isnull().sum()"
   ]
  },
  {
   "cell_type": "code",
   "execution_count": 21,
   "id": "b3857e79-2309-4cd7-9798-7fa4a47278a1",
   "metadata": {},
   "outputs": [
    {
     "data": {
      "text/plain": [
       "888"
      ]
     },
     "execution_count": 21,
     "metadata": {},
     "output_type": "execute_result"
    }
   ],
   "source": [
    "# Getting percentage of Bean Type that is missing \n",
    "missing_values_BT = df_chocolate['Bean Type'].isnull().sum()\n",
    "missing_values_BT"
   ]
  },
  {
   "cell_type": "code",
   "execution_count": 22,
   "id": "788001db-f6fb-4ba9-8c92-19c2922503a2",
   "metadata": {},
   "outputs": [],
   "source": [
    "total_rows = df_chocolate.shape[0]"
   ]
  },
  {
   "cell_type": "code",
   "execution_count": 35,
   "id": "ac23a46d-9ab2-4df8-beb3-5e116a5e8f15",
   "metadata": {},
   "outputs": [
    {
     "name": "stdout",
     "output_type": "stream",
     "text": [
      "0.4947075208913649\n"
     ]
    }
   ],
   "source": [
    "missing_BT = (missing_values_BT / total_rows) \n",
    "print(missing_BT)"
   ]
  },
  {
   "cell_type": "code",
   "execution_count": 36,
   "id": "40cfd85a-f08c-4c9d-927e-1d1c029b35e0",
   "metadata": {},
   "outputs": [
    {
     "name": "stdout",
     "output_type": "stream",
     "text": [
      "49%\n"
     ]
    }
   ],
   "source": [
    "percentage_missing_BT = \"{:.0%}\".format(missing_BT)\n",
    "print(percentage_missing_BT)"
   ]
  },
  {
   "cell_type": "code",
   "execution_count": 37,
   "id": "f75e6454-dfaa-4597-bea6-bc0edf342434",
   "metadata": {},
   "outputs": [
    {
     "data": {
      "text/html": [
       "<div>\n",
       "<style scoped>\n",
       "    .dataframe tbody tr th:only-of-type {\n",
       "        vertical-align: middle;\n",
       "    }\n",
       "\n",
       "    .dataframe tbody tr th {\n",
       "        vertical-align: top;\n",
       "    }\n",
       "\n",
       "    .dataframe thead th {\n",
       "        text-align: right;\n",
       "    }\n",
       "</style>\n",
       "<table border=\"1\" class=\"dataframe\">\n",
       "  <thead>\n",
       "    <tr style=\"text-align: right;\">\n",
       "      <th></th>\n",
       "      <th>Company</th>\n",
       "      <th>Specific Bean Origin/Bar Name</th>\n",
       "      <th>REF</th>\n",
       "      <th>Review Date</th>\n",
       "      <th>Cocoa Percentage</th>\n",
       "      <th>Location</th>\n",
       "      <th>Rating</th>\n",
       "      <th>Broad Bean Origin</th>\n",
       "    </tr>\n",
       "  </thead>\n",
       "  <tbody>\n",
       "    <tr>\n",
       "      <th>0</th>\n",
       "      <td>A. Morin</td>\n",
       "      <td>Agua Grande</td>\n",
       "      <td>1876</td>\n",
       "      <td>2016</td>\n",
       "      <td>63%</td>\n",
       "      <td>France</td>\n",
       "      <td>3.75</td>\n",
       "      <td>Sao Tome</td>\n",
       "    </tr>\n",
       "    <tr>\n",
       "      <th>1</th>\n",
       "      <td>A. Morin</td>\n",
       "      <td>Kpime</td>\n",
       "      <td>1676</td>\n",
       "      <td>2015</td>\n",
       "      <td>70%</td>\n",
       "      <td>France</td>\n",
       "      <td>2.75</td>\n",
       "      <td>Togo</td>\n",
       "    </tr>\n",
       "    <tr>\n",
       "      <th>2</th>\n",
       "      <td>A. Morin</td>\n",
       "      <td>Atsane</td>\n",
       "      <td>1676</td>\n",
       "      <td>2015</td>\n",
       "      <td>70%</td>\n",
       "      <td>France</td>\n",
       "      <td>3.00</td>\n",
       "      <td>Togo</td>\n",
       "    </tr>\n",
       "    <tr>\n",
       "      <th>3</th>\n",
       "      <td>A. Morin</td>\n",
       "      <td>Akata</td>\n",
       "      <td>1680</td>\n",
       "      <td>2015</td>\n",
       "      <td>70%</td>\n",
       "      <td>France</td>\n",
       "      <td>3.50</td>\n",
       "      <td>Togo</td>\n",
       "    </tr>\n",
       "    <tr>\n",
       "      <th>4</th>\n",
       "      <td>A. Morin</td>\n",
       "      <td>Quilla</td>\n",
       "      <td>1704</td>\n",
       "      <td>2015</td>\n",
       "      <td>70%</td>\n",
       "      <td>France</td>\n",
       "      <td>3.50</td>\n",
       "      <td>Peru</td>\n",
       "    </tr>\n",
       "    <tr>\n",
       "      <th>...</th>\n",
       "      <td>...</td>\n",
       "      <td>...</td>\n",
       "      <td>...</td>\n",
       "      <td>...</td>\n",
       "      <td>...</td>\n",
       "      <td>...</td>\n",
       "      <td>...</td>\n",
       "      <td>...</td>\n",
       "    </tr>\n",
       "    <tr>\n",
       "      <th>1790</th>\n",
       "      <td>Zotter</td>\n",
       "      <td>Peru</td>\n",
       "      <td>647</td>\n",
       "      <td>2011</td>\n",
       "      <td>70%</td>\n",
       "      <td>Austria</td>\n",
       "      <td>3.75</td>\n",
       "      <td>Peru</td>\n",
       "    </tr>\n",
       "    <tr>\n",
       "      <th>1791</th>\n",
       "      <td>Zotter</td>\n",
       "      <td>Congo</td>\n",
       "      <td>749</td>\n",
       "      <td>2011</td>\n",
       "      <td>65%</td>\n",
       "      <td>Austria</td>\n",
       "      <td>3.00</td>\n",
       "      <td>Congo</td>\n",
       "    </tr>\n",
       "    <tr>\n",
       "      <th>1792</th>\n",
       "      <td>Zotter</td>\n",
       "      <td>Kerala State</td>\n",
       "      <td>749</td>\n",
       "      <td>2011</td>\n",
       "      <td>65%</td>\n",
       "      <td>Austria</td>\n",
       "      <td>3.50</td>\n",
       "      <td>India</td>\n",
       "    </tr>\n",
       "    <tr>\n",
       "      <th>1793</th>\n",
       "      <td>Zotter</td>\n",
       "      <td>Kerala State</td>\n",
       "      <td>781</td>\n",
       "      <td>2011</td>\n",
       "      <td>62%</td>\n",
       "      <td>Austria</td>\n",
       "      <td>3.25</td>\n",
       "      <td>India</td>\n",
       "    </tr>\n",
       "    <tr>\n",
       "      <th>1794</th>\n",
       "      <td>Zotter</td>\n",
       "      <td>Brazil, Mitzi Blue</td>\n",
       "      <td>486</td>\n",
       "      <td>2010</td>\n",
       "      <td>65%</td>\n",
       "      <td>Austria</td>\n",
       "      <td>3.00</td>\n",
       "      <td>Brazil</td>\n",
       "    </tr>\n",
       "  </tbody>\n",
       "</table>\n",
       "<p>1795 rows × 8 columns</p>\n",
       "</div>"
      ],
      "text/plain": [
       "       Company Specific Bean Origin/Bar Name   REF  Review Date  \\\n",
       "0     A. Morin                   Agua Grande  1876         2016   \n",
       "1     A. Morin                         Kpime  1676         2015   \n",
       "2     A. Morin                        Atsane  1676         2015   \n",
       "3     A. Morin                         Akata  1680         2015   \n",
       "4     A. Morin                        Quilla  1704         2015   \n",
       "...        ...                           ...   ...          ...   \n",
       "1790    Zotter                          Peru   647         2011   \n",
       "1791    Zotter                         Congo   749         2011   \n",
       "1792    Zotter                  Kerala State   749         2011   \n",
       "1793    Zotter                  Kerala State   781         2011   \n",
       "1794    Zotter            Brazil, Mitzi Blue   486         2010   \n",
       "\n",
       "     Cocoa Percentage Location  Rating Broad Bean Origin  \n",
       "0                 63%   France    3.75          Sao Tome  \n",
       "1                 70%   France    2.75              Togo  \n",
       "2                 70%   France    3.00              Togo  \n",
       "3                 70%   France    3.50              Togo  \n",
       "4                 70%   France    3.50              Peru  \n",
       "...               ...      ...     ...               ...  \n",
       "1790              70%  Austria    3.75              Peru  \n",
       "1791              65%  Austria    3.00             Congo  \n",
       "1792              65%  Austria    3.50             India  \n",
       "1793              62%  Austria    3.25             India  \n",
       "1794              65%  Austria    3.00            Brazil  \n",
       "\n",
       "[1795 rows x 8 columns]"
      ]
     },
     "execution_count": 37,
     "metadata": {},
     "output_type": "execute_result"
    }
   ],
   "source": [
    "# Remove 'Bean Type' column due to high percentage of missing data\n",
    "df_chocolate.drop([\"Bean Type\"], axis=1)"
   ]
  },
  {
   "cell_type": "code",
   "execution_count": 38,
   "id": "c5df23b0-a922-43ee-b0a4-5fc85822ae94",
   "metadata": {},
   "outputs": [
    {
     "data": {
      "text/plain": [
       "RangeIndex(start=0, stop=1795, step=1)"
      ]
     },
     "execution_count": 38,
     "metadata": {},
     "output_type": "execute_result"
    }
   ],
   "source": [
    "# Indexing the DataFrame\n",
    "df_chocolate.index"
   ]
  },
  {
   "cell_type": "code",
   "execution_count": 39,
   "id": "3848bd34-be39-4a82-8b69-d450a33b5dfc",
   "metadata": {},
   "outputs": [
    {
     "data": {
      "text/html": [
       "<div>\n",
       "<style scoped>\n",
       "    .dataframe tbody tr th:only-of-type {\n",
       "        vertical-align: middle;\n",
       "    }\n",
       "\n",
       "    .dataframe tbody tr th {\n",
       "        vertical-align: top;\n",
       "    }\n",
       "\n",
       "    .dataframe thead th {\n",
       "        text-align: right;\n",
       "    }\n",
       "</style>\n",
       "<table border=\"1\" class=\"dataframe\">\n",
       "  <thead>\n",
       "    <tr style=\"text-align: right;\">\n",
       "      <th></th>\n",
       "      <th>Specific Bean Origin/Bar Name</th>\n",
       "      <th>REF</th>\n",
       "      <th>Review Date</th>\n",
       "      <th>Cocoa Percentage</th>\n",
       "      <th>Location</th>\n",
       "      <th>Rating</th>\n",
       "      <th>Bean Type</th>\n",
       "      <th>Broad Bean Origin</th>\n",
       "    </tr>\n",
       "    <tr>\n",
       "      <th>Company</th>\n",
       "      <th></th>\n",
       "      <th></th>\n",
       "      <th></th>\n",
       "      <th></th>\n",
       "      <th></th>\n",
       "      <th></th>\n",
       "      <th></th>\n",
       "      <th></th>\n",
       "    </tr>\n",
       "  </thead>\n",
       "  <tbody>\n",
       "    <tr>\n",
       "      <th>A. Morin</th>\n",
       "      <td>Agua Grande</td>\n",
       "      <td>1876</td>\n",
       "      <td>2016</td>\n",
       "      <td>63%</td>\n",
       "      <td>France</td>\n",
       "      <td>3.75</td>\n",
       "      <td>NaN</td>\n",
       "      <td>Sao Tome</td>\n",
       "    </tr>\n",
       "    <tr>\n",
       "      <th>A. Morin</th>\n",
       "      <td>Kpime</td>\n",
       "      <td>1676</td>\n",
       "      <td>2015</td>\n",
       "      <td>70%</td>\n",
       "      <td>France</td>\n",
       "      <td>2.75</td>\n",
       "      <td>NaN</td>\n",
       "      <td>Togo</td>\n",
       "    </tr>\n",
       "    <tr>\n",
       "      <th>A. Morin</th>\n",
       "      <td>Atsane</td>\n",
       "      <td>1676</td>\n",
       "      <td>2015</td>\n",
       "      <td>70%</td>\n",
       "      <td>France</td>\n",
       "      <td>3.00</td>\n",
       "      <td>NaN</td>\n",
       "      <td>Togo</td>\n",
       "    </tr>\n",
       "    <tr>\n",
       "      <th>A. Morin</th>\n",
       "      <td>Akata</td>\n",
       "      <td>1680</td>\n",
       "      <td>2015</td>\n",
       "      <td>70%</td>\n",
       "      <td>France</td>\n",
       "      <td>3.50</td>\n",
       "      <td>NaN</td>\n",
       "      <td>Togo</td>\n",
       "    </tr>\n",
       "    <tr>\n",
       "      <th>A. Morin</th>\n",
       "      <td>Quilla</td>\n",
       "      <td>1704</td>\n",
       "      <td>2015</td>\n",
       "      <td>70%</td>\n",
       "      <td>France</td>\n",
       "      <td>3.50</td>\n",
       "      <td>NaN</td>\n",
       "      <td>Peru</td>\n",
       "    </tr>\n",
       "  </tbody>\n",
       "</table>\n",
       "</div>"
      ],
      "text/plain": [
       "         Specific Bean Origin/Bar Name   REF  Review Date Cocoa Percentage  \\\n",
       "Company                                                                      \n",
       "A. Morin                   Agua Grande  1876         2016              63%   \n",
       "A. Morin                         Kpime  1676         2015              70%   \n",
       "A. Morin                        Atsane  1676         2015              70%   \n",
       "A. Morin                         Akata  1680         2015              70%   \n",
       "A. Morin                        Quilla  1704         2015              70%   \n",
       "\n",
       "         Location  Rating Bean Type Broad Bean Origin  \n",
       "Company                                                \n",
       "A. Morin   France    3.75       NaN          Sao Tome  \n",
       "A. Morin   France    2.75       NaN              Togo  \n",
       "A. Morin   France    3.00       NaN              Togo  \n",
       "A. Morin   France    3.50       NaN              Togo  \n",
       "A. Morin   France    3.50       NaN              Peru  "
      ]
     },
     "execution_count": 39,
     "metadata": {},
     "output_type": "execute_result"
    }
   ],
   "source": [
    "df_chocolate.set_index('Company').head()"
   ]
  },
  {
   "cell_type": "code",
   "execution_count": null,
   "id": "10eb1bd1-0795-4016-8713-97f1020d9943",
   "metadata": {},
   "outputs": [],
   "source": []
  }
 ],
 "metadata": {
  "kernelspec": {
   "display_name": "Python 3",
   "language": "python",
   "name": "python3"
  },
  "language_info": {
   "codemirror_mode": {
    "name": "ipython",
    "version": 3
   },
   "file_extension": ".py",
   "mimetype": "text/x-python",
   "name": "python",
   "nbconvert_exporter": "python",
   "pygments_lexer": "ipython3",
   "version": "3.8.8"
  }
 },
 "nbformat": 4,
 "nbformat_minor": 5
}

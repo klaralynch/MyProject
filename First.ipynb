{
 "cells": [
  {
   "cell_type": "code",
   "execution_count": 1,
   "id": "3483aa18-a1ee-43a5-9880-14c458fd7933",
   "metadata": {},
   "outputs": [],
   "source": [
    "import pandas as pd\n",
    "import matplotlib.pyplot as plt\n",
    "import seaborn as sns \n",
    "import numpy as np"
   ]
  },
  {
   "cell_type": "code",
   "execution_count": 2,
   "id": "f160c9a9-6718-4fe7-98bc-6d7be43fa1c4",
   "metadata": {},
   "outputs": [
    {
     "name": "stdout",
     "output_type": "stream",
     "text": [
      "  Company \\n(Maker-if known) Specific Bean Origin\\nor Bar Name   REF  \\\n",
      "0                   A. Morin                       Agua Grande  1876   \n",
      "1                   A. Morin                             Kpime  1676   \n",
      "2                   A. Morin                            Atsane  1676   \n",
      "3                   A. Morin                             Akata  1680   \n",
      "4                   A. Morin                            Quilla  1704   \n",
      "\n",
      "   Review\\nDate Cocoa\\nPercent Company\\nLocation  Rating Bean\\nType  \\\n",
      "0          2016            63%            France    3.75              \n",
      "1          2015            70%            France    2.75              \n",
      "2          2015            70%            France    3.00              \n",
      "3          2015            70%            France    3.50              \n",
      "4          2015            70%            France    3.50              \n",
      "\n",
      "  Broad Bean\\nOrigin  \n",
      "0           Sao Tome  \n",
      "1               Togo  \n",
      "2               Togo  \n",
      "3               Togo  \n",
      "4               Peru  \n"
     ]
    }
   ],
   "source": [
    "# Importing CSV file into DataFrame\n",
    "df_chocolate = pd.read_csv(\"flavors_of_cacao.csv\")\n",
    "print(df_chocolate.head())"
   ]
  },
  {
   "cell_type": "code",
   "execution_count": 3,
   "id": "871d290c-c8b6-47f3-b576-6bfa142f5818",
   "metadata": {},
   "outputs": [
    {
     "data": {
      "text/html": [
       "<div>\n",
       "<style scoped>\n",
       "    .dataframe tbody tr th:only-of-type {\n",
       "        vertical-align: middle;\n",
       "    }\n",
       "\n",
       "    .dataframe tbody tr th {\n",
       "        vertical-align: top;\n",
       "    }\n",
       "\n",
       "    .dataframe thead th {\n",
       "        text-align: right;\n",
       "    }\n",
       "</style>\n",
       "<table border=\"1\" class=\"dataframe\">\n",
       "  <thead>\n",
       "    <tr style=\"text-align: right;\">\n",
       "      <th></th>\n",
       "      <th>Company</th>\n",
       "      <th>Specific Bean Origin/Bar Name</th>\n",
       "      <th>REF</th>\n",
       "      <th>Review Date</th>\n",
       "      <th>Cocoa Percentage</th>\n",
       "      <th>Location</th>\n",
       "      <th>Rating</th>\n",
       "      <th>Bean Type</th>\n",
       "      <th>Broad Bean Origin</th>\n",
       "    </tr>\n",
       "  </thead>\n",
       "  <tbody>\n",
       "    <tr>\n",
       "      <th>0</th>\n",
       "      <td>A. Morin</td>\n",
       "      <td>Agua Grande</td>\n",
       "      <td>1876</td>\n",
       "      <td>2016</td>\n",
       "      <td>63%</td>\n",
       "      <td>France</td>\n",
       "      <td>3.75</td>\n",
       "      <td></td>\n",
       "      <td>Sao Tome</td>\n",
       "    </tr>\n",
       "    <tr>\n",
       "      <th>1</th>\n",
       "      <td>A. Morin</td>\n",
       "      <td>Kpime</td>\n",
       "      <td>1676</td>\n",
       "      <td>2015</td>\n",
       "      <td>70%</td>\n",
       "      <td>France</td>\n",
       "      <td>2.75</td>\n",
       "      <td></td>\n",
       "      <td>Togo</td>\n",
       "    </tr>\n",
       "    <tr>\n",
       "      <th>2</th>\n",
       "      <td>A. Morin</td>\n",
       "      <td>Atsane</td>\n",
       "      <td>1676</td>\n",
       "      <td>2015</td>\n",
       "      <td>70%</td>\n",
       "      <td>France</td>\n",
       "      <td>3.00</td>\n",
       "      <td></td>\n",
       "      <td>Togo</td>\n",
       "    </tr>\n",
       "    <tr>\n",
       "      <th>3</th>\n",
       "      <td>A. Morin</td>\n",
       "      <td>Akata</td>\n",
       "      <td>1680</td>\n",
       "      <td>2015</td>\n",
       "      <td>70%</td>\n",
       "      <td>France</td>\n",
       "      <td>3.50</td>\n",
       "      <td></td>\n",
       "      <td>Togo</td>\n",
       "    </tr>\n",
       "    <tr>\n",
       "      <th>4</th>\n",
       "      <td>A. Morin</td>\n",
       "      <td>Quilla</td>\n",
       "      <td>1704</td>\n",
       "      <td>2015</td>\n",
       "      <td>70%</td>\n",
       "      <td>France</td>\n",
       "      <td>3.50</td>\n",
       "      <td></td>\n",
       "      <td>Peru</td>\n",
       "    </tr>\n",
       "  </tbody>\n",
       "</table>\n",
       "</div>"
      ],
      "text/plain": [
       "    Company Specific Bean Origin/Bar Name   REF  Review Date Cocoa Percentage  \\\n",
       "0  A. Morin                   Agua Grande  1876         2016              63%   \n",
       "1  A. Morin                         Kpime  1676         2015              70%   \n",
       "2  A. Morin                        Atsane  1676         2015              70%   \n",
       "3  A. Morin                         Akata  1680         2015              70%   \n",
       "4  A. Morin                        Quilla  1704         2015              70%   \n",
       "\n",
       "  Location  Rating Bean Type Broad Bean Origin  \n",
       "0   France    3.75                    Sao Tome  \n",
       "1   France    2.75                        Togo  \n",
       "2   France    3.00                        Togo  \n",
       "3   France    3.50                        Togo  \n",
       "4   France    3.50                        Peru  "
      ]
     },
     "execution_count": 3,
     "metadata": {},
     "output_type": "execute_result"
    }
   ],
   "source": [
    "# Cleaning the data\n",
    "# Renaming columns\n",
    "df_chocolate.columns = [\"Company\", \"Specific Bean Origin/Bar Name\", \"REF\", \"Review Date\", \"Cocoa Percentage\", \"Location\", \"Rating\", \"Bean Type\", \"Broad Bean Origin\"]\n",
    "df_chocolate.head()"
   ]
  },
  {
   "cell_type": "code",
   "execution_count": 4,
   "id": "df65e160-2cb0-4d81-80b4-c3937fa4413d",
   "metadata": {},
   "outputs": [
    {
     "data": {
      "text/plain": [
       "Company                          0\n",
       "Specific Bean Origin/Bar Name    0\n",
       "REF                              0\n",
       "Review Date                      0\n",
       "Cocoa Percentage                 0\n",
       "Location                         0\n",
       "Rating                           0\n",
       "Bean Type                        1\n",
       "Broad Bean Origin                1\n",
       "dtype: int64"
      ]
     },
     "execution_count": 4,
     "metadata": {},
     "output_type": "execute_result"
    }
   ],
   "source": [
    "# Cleaning the data\n",
    "# Checking for missing data\n",
    "df_chocolate.isna().sum()"
   ]
  },
  {
   "cell_type": "code",
   "execution_count": 5,
   "id": "641d6d77-a79e-4f82-a750-6471fdea6cbe",
   "metadata": {
    "tags": []
   },
   "outputs": [
    {
     "data": {
      "text/html": [
       "<div>\n",
       "<style scoped>\n",
       "    .dataframe tbody tr th:only-of-type {\n",
       "        vertical-align: middle;\n",
       "    }\n",
       "\n",
       "    .dataframe tbody tr th {\n",
       "        vertical-align: top;\n",
       "    }\n",
       "\n",
       "    .dataframe thead th {\n",
       "        text-align: right;\n",
       "    }\n",
       "</style>\n",
       "<table border=\"1\" class=\"dataframe\">\n",
       "  <thead>\n",
       "    <tr style=\"text-align: right;\">\n",
       "      <th></th>\n",
       "      <th>Bean Type</th>\n",
       "      <th>Broad Bean Origin</th>\n",
       "    </tr>\n",
       "  </thead>\n",
       "  <tbody>\n",
       "    <tr>\n",
       "      <th>0</th>\n",
       "      <td></td>\n",
       "      <td>Sao Tome</td>\n",
       "    </tr>\n",
       "    <tr>\n",
       "      <th>1</th>\n",
       "      <td></td>\n",
       "      <td>Togo</td>\n",
       "    </tr>\n",
       "    <tr>\n",
       "      <th>2</th>\n",
       "      <td></td>\n",
       "      <td>Togo</td>\n",
       "    </tr>\n",
       "    <tr>\n",
       "      <th>3</th>\n",
       "      <td></td>\n",
       "      <td>Togo</td>\n",
       "    </tr>\n",
       "    <tr>\n",
       "      <th>4</th>\n",
       "      <td></td>\n",
       "      <td>Peru</td>\n",
       "    </tr>\n",
       "  </tbody>\n",
       "</table>\n",
       "</div>"
      ],
      "text/plain": [
       "  Bean Type Broad Bean Origin\n",
       "0                    Sao Tome\n",
       "1                        Togo\n",
       "2                        Togo\n",
       "3                        Togo\n",
       "4                        Peru"
      ]
     },
     "execution_count": 5,
     "metadata": {},
     "output_type": "execute_result"
    }
   ],
   "source": [
    "# Looks like there is minimal missing data. According to the above, there is 1 missing values in both the Bean Type column and the Broad Bean Origin Frame column. \n",
    "# Print out topline information (head) of both columns to explore this further. \n",
    "df_chocolate[['Bean Type', 'Broad Bean Origin']].head()"
   ]
  },
  {
   "cell_type": "code",
   "execution_count": 6,
   "id": "ba6fc046-0356-442a-ae94-2ca5273139c6",
   "metadata": {
    "tags": []
   },
   "outputs": [
    {
     "data": {
      "text/plain": [
       "                            887\n",
       "Trinitario                  419\n",
       "Criollo                     153\n",
       "Forastero                    87\n",
       "Forastero (Nacional)         52\n",
       "Blend                        41\n",
       "Criollo, Trinitario          39\n",
       "Forastero (Arriba)           37\n",
       "Criollo (Porcelana)          10\n",
       "Trinitario, Criollo           9\n",
       "Forastero (Parazinho)         8\n",
       "Forastero (Arriba) ASS        6\n",
       "Matina                        3\n",
       "Nacional (Arriba)             3\n",
       "Beniano                       3\n",
       "EET                           3\n",
       "Criollo (Ocumare 61)          2\n",
       "Criollo, Forastero            2\n",
       "Trinitario, Forastero         2\n",
       "Trinitario (85% Criollo)      2\n",
       "Amazon mix                    2\n",
       "Nacional                      2\n",
       "Criollo (Amarru)              2\n",
       "Forastero (Catongo)           2\n",
       "Amazon, ICS                   2\n",
       "Forastero (Amelonado)         1\n",
       "Trinitario (Scavina)          1\n",
       "CCN51                         1\n",
       "Trinitario (Amelonado)        1\n",
       "Criollo (Ocumare 67)          1\n",
       "Criollo (Ocumare 77)          1\n",
       "Forastero (Arriba) ASSS       1\n",
       "Criollo, +                    1\n",
       "Blend-Forastero,Criollo       1\n",
       "Trinitario, Nacional          1\n",
       "Trinitario, TCGA              1\n",
       "Forastero(Arriba, CCN)        1\n",
       "Forastero, Trinitario         1\n",
       "Criollo (Wild)                1\n",
       "Amazon                        1\n",
       "Criollo (Ocumare)             1\n",
       "Name: Bean Type, dtype: int64"
      ]
     },
     "execution_count": 6,
     "metadata": {},
     "output_type": "execute_result"
    }
   ],
   "source": [
    "# Clearly there is more than just 1 missing value in Bean Type\n",
    "# Work out how many values are actually missing\n",
    "df_chocolate['Bean Type'].value_counts()"
   ]
  },
  {
   "cell_type": "code",
   "execution_count": 8,
   "id": "5974ee8d-d532-496b-a735-6f5ae51381ab",
   "metadata": {},
   "outputs": [
    {
     "data": {
      "text/plain": [
       "['\\xa0', '\\xa0', '\\xa0']"
      ]
     },
     "execution_count": 8,
     "metadata": {},
     "output_type": "execute_result"
    }
   ],
   "source": [
    "# According to the above there are 887 missing or blank values in the Bean Type column. \n",
    "# Get an understanding blanks in 'Bean Type' column\n",
    "list(df_chocolate[\"Bean Type\"][0:3])"
   ]
  },
  {
   "cell_type": "code",
   "execution_count": 9,
   "id": "83f04be5-0f27-46df-9ca5-39a8e8dd0334",
   "metadata": {},
   "outputs": [
    {
     "data": {
      "text/html": [
       "<div>\n",
       "<style scoped>\n",
       "    .dataframe tbody tr th:only-of-type {\n",
       "        vertical-align: middle;\n",
       "    }\n",
       "\n",
       "    .dataframe tbody tr th {\n",
       "        vertical-align: top;\n",
       "    }\n",
       "\n",
       "    .dataframe thead th {\n",
       "        text-align: right;\n",
       "    }\n",
       "</style>\n",
       "<table border=\"1\" class=\"dataframe\">\n",
       "  <thead>\n",
       "    <tr style=\"text-align: right;\">\n",
       "      <th></th>\n",
       "      <th>Company</th>\n",
       "      <th>Specific Bean Origin/Bar Name</th>\n",
       "      <th>REF</th>\n",
       "      <th>Review Date</th>\n",
       "      <th>Cocoa Percentage</th>\n",
       "      <th>Location</th>\n",
       "      <th>Rating</th>\n",
       "      <th>Bean Type</th>\n",
       "      <th>Broad Bean Origin</th>\n",
       "    </tr>\n",
       "  </thead>\n",
       "  <tbody>\n",
       "    <tr>\n",
       "      <th>0</th>\n",
       "      <td>A. Morin</td>\n",
       "      <td>Agua Grande</td>\n",
       "      <td>1876</td>\n",
       "      <td>2016</td>\n",
       "      <td>63%</td>\n",
       "      <td>France</td>\n",
       "      <td>3.75</td>\n",
       "      <td>Unknown</td>\n",
       "      <td>Sao Tome</td>\n",
       "    </tr>\n",
       "    <tr>\n",
       "      <th>1</th>\n",
       "      <td>A. Morin</td>\n",
       "      <td>Kpime</td>\n",
       "      <td>1676</td>\n",
       "      <td>2015</td>\n",
       "      <td>70%</td>\n",
       "      <td>France</td>\n",
       "      <td>2.75</td>\n",
       "      <td>Unknown</td>\n",
       "      <td>Togo</td>\n",
       "    </tr>\n",
       "    <tr>\n",
       "      <th>2</th>\n",
       "      <td>A. Morin</td>\n",
       "      <td>Atsane</td>\n",
       "      <td>1676</td>\n",
       "      <td>2015</td>\n",
       "      <td>70%</td>\n",
       "      <td>France</td>\n",
       "      <td>3.00</td>\n",
       "      <td>Unknown</td>\n",
       "      <td>Togo</td>\n",
       "    </tr>\n",
       "    <tr>\n",
       "      <th>3</th>\n",
       "      <td>A. Morin</td>\n",
       "      <td>Akata</td>\n",
       "      <td>1680</td>\n",
       "      <td>2015</td>\n",
       "      <td>70%</td>\n",
       "      <td>France</td>\n",
       "      <td>3.50</td>\n",
       "      <td>Unknown</td>\n",
       "      <td>Togo</td>\n",
       "    </tr>\n",
       "    <tr>\n",
       "      <th>4</th>\n",
       "      <td>A. Morin</td>\n",
       "      <td>Quilla</td>\n",
       "      <td>1704</td>\n",
       "      <td>2015</td>\n",
       "      <td>70%</td>\n",
       "      <td>France</td>\n",
       "      <td>3.50</td>\n",
       "      <td>Unknown</td>\n",
       "      <td>Peru</td>\n",
       "    </tr>\n",
       "  </tbody>\n",
       "</table>\n",
       "</div>"
      ],
      "text/plain": [
       "    Company Specific Bean Origin/Bar Name   REF  Review Date Cocoa Percentage  \\\n",
       "0  A. Morin                   Agua Grande  1876         2016              63%   \n",
       "1  A. Morin                         Kpime  1676         2015              70%   \n",
       "2  A. Morin                        Atsane  1676         2015              70%   \n",
       "3  A. Morin                         Akata  1680         2015              70%   \n",
       "4  A. Morin                        Quilla  1704         2015              70%   \n",
       "\n",
       "  Location  Rating Bean Type Broad Bean Origin  \n",
       "0   France    3.75   Unknown          Sao Tome  \n",
       "1   France    2.75   Unknown              Togo  \n",
       "2   France    3.00   Unknown              Togo  \n",
       "3   France    3.50   Unknown              Togo  \n",
       "4   France    3.50   Unknown              Peru  "
      ]
     },
     "execution_count": 9,
     "metadata": {},
     "output_type": "execute_result"
    }
   ],
   "source": [
    "# Replace missing data (non-breaking space (\\xa0)) with Unknown\n",
    "# Use function to replace \\xa0 \n",
    "\n",
    "def unknowns(x):\n",
    "    if x == \"\\xa0\": \n",
    "        return \"Unknown\"\n",
    "    \n",
    "df_chocolate['Bean Type'] = df_chocolate['Bean Type'].apply(unknowns)\n",
    "df_chocolate.head()"
   ]
  },
  {
   "cell_type": "code",
   "execution_count": 10,
   "id": "0af5b14e-f275-4252-adac-5896ae59d5a2",
   "metadata": {
    "tags": []
   },
   "outputs": [
    {
     "data": {
      "text/plain": [
       "Company                            0\n",
       "Specific Bean Origin/Bar Name      0\n",
       "REF                                0\n",
       "Review Date                        0\n",
       "Cocoa Percentage                   0\n",
       "Location                           0\n",
       "Rating                             0\n",
       "Bean Type                        908\n",
       "Broad Bean Origin                  1\n",
       "dtype: int64"
      ]
     },
     "execution_count": 10,
     "metadata": {},
     "output_type": "execute_result"
    }
   ],
   "source": [
    "# Understanding Nulls in df_chocolate\n",
    "df_chocolate.isnull().sum()"
   ]
  },
  {
   "cell_type": "code",
   "execution_count": 11,
   "id": "9393313d-bf88-4190-a9a1-ead3df0af8b8",
   "metadata": {},
   "outputs": [
    {
     "data": {
      "text/plain": [
       "908"
      ]
     },
     "execution_count": 11,
     "metadata": {},
     "output_type": "execute_result"
    }
   ],
   "source": [
    "# Getting percentage of Bean Type that is missing \n",
    "# First get number of missing values in Bean Type \n",
    "missing_values_BT = df_chocolate['Bean Type'].isnull().sum()\n",
    "missing_values_BT"
   ]
  },
  {
   "cell_type": "code",
   "execution_count": 12,
   "id": "a623263b-529a-4d91-a6db-551c3ef7d627",
   "metadata": {},
   "outputs": [],
   "source": [
    "total_rows = df_chocolate.shape[0]"
   ]
  },
  {
   "cell_type": "code",
   "execution_count": 13,
   "id": "d7f99a0e-126c-4b38-be07-0c514b649cfa",
   "metadata": {},
   "outputs": [
    {
     "name": "stdout",
     "output_type": "stream",
     "text": [
      "0.5058495821727019\n"
     ]
    }
   ],
   "source": [
    "missing_BT = (missing_values_BT / total_rows) \n",
    "print(missing_BT)"
   ]
  },
  {
   "cell_type": "code",
   "execution_count": 14,
   "id": "b12fea05-b3e4-4ee0-8ebb-09d28a4040f4",
   "metadata": {},
   "outputs": [
    {
     "name": "stdout",
     "output_type": "stream",
     "text": [
      "51%\n"
     ]
    }
   ],
   "source": [
    "percentage_missing_BT = \"{:.0%}\".format(missing_BT)\n",
    "print(percentage_missing_BT)"
   ]
  },
  {
   "cell_type": "code",
   "execution_count": 15,
   "id": "eb6ae7fb-598c-44c7-a3e9-9103a570f838",
   "metadata": {},
   "outputs": [
    {
     "data": {
      "text/html": [
       "<div>\n",
       "<style scoped>\n",
       "    .dataframe tbody tr th:only-of-type {\n",
       "        vertical-align: middle;\n",
       "    }\n",
       "\n",
       "    .dataframe tbody tr th {\n",
       "        vertical-align: top;\n",
       "    }\n",
       "\n",
       "    .dataframe thead th {\n",
       "        text-align: right;\n",
       "    }\n",
       "</style>\n",
       "<table border=\"1\" class=\"dataframe\">\n",
       "  <thead>\n",
       "    <tr style=\"text-align: right;\">\n",
       "      <th></th>\n",
       "      <th>Company</th>\n",
       "      <th>Specific Bean Origin/Bar Name</th>\n",
       "      <th>REF</th>\n",
       "      <th>Review Date</th>\n",
       "      <th>Cocoa Percentage</th>\n",
       "      <th>Location</th>\n",
       "      <th>Rating</th>\n",
       "      <th>Broad Bean Origin</th>\n",
       "    </tr>\n",
       "  </thead>\n",
       "  <tbody>\n",
       "    <tr>\n",
       "      <th>0</th>\n",
       "      <td>A. Morin</td>\n",
       "      <td>Agua Grande</td>\n",
       "      <td>1876</td>\n",
       "      <td>2016</td>\n",
       "      <td>63%</td>\n",
       "      <td>France</td>\n",
       "      <td>3.75</td>\n",
       "      <td>Sao Tome</td>\n",
       "    </tr>\n",
       "    <tr>\n",
       "      <th>1</th>\n",
       "      <td>A. Morin</td>\n",
       "      <td>Kpime</td>\n",
       "      <td>1676</td>\n",
       "      <td>2015</td>\n",
       "      <td>70%</td>\n",
       "      <td>France</td>\n",
       "      <td>2.75</td>\n",
       "      <td>Togo</td>\n",
       "    </tr>\n",
       "    <tr>\n",
       "      <th>2</th>\n",
       "      <td>A. Morin</td>\n",
       "      <td>Atsane</td>\n",
       "      <td>1676</td>\n",
       "      <td>2015</td>\n",
       "      <td>70%</td>\n",
       "      <td>France</td>\n",
       "      <td>3.00</td>\n",
       "      <td>Togo</td>\n",
       "    </tr>\n",
       "    <tr>\n",
       "      <th>3</th>\n",
       "      <td>A. Morin</td>\n",
       "      <td>Akata</td>\n",
       "      <td>1680</td>\n",
       "      <td>2015</td>\n",
       "      <td>70%</td>\n",
       "      <td>France</td>\n",
       "      <td>3.50</td>\n",
       "      <td>Togo</td>\n",
       "    </tr>\n",
       "    <tr>\n",
       "      <th>4</th>\n",
       "      <td>A. Morin</td>\n",
       "      <td>Quilla</td>\n",
       "      <td>1704</td>\n",
       "      <td>2015</td>\n",
       "      <td>70%</td>\n",
       "      <td>France</td>\n",
       "      <td>3.50</td>\n",
       "      <td>Peru</td>\n",
       "    </tr>\n",
       "    <tr>\n",
       "      <th>...</th>\n",
       "      <td>...</td>\n",
       "      <td>...</td>\n",
       "      <td>...</td>\n",
       "      <td>...</td>\n",
       "      <td>...</td>\n",
       "      <td>...</td>\n",
       "      <td>...</td>\n",
       "      <td>...</td>\n",
       "    </tr>\n",
       "    <tr>\n",
       "      <th>1790</th>\n",
       "      <td>Zotter</td>\n",
       "      <td>Peru</td>\n",
       "      <td>647</td>\n",
       "      <td>2011</td>\n",
       "      <td>70%</td>\n",
       "      <td>Austria</td>\n",
       "      <td>3.75</td>\n",
       "      <td>Peru</td>\n",
       "    </tr>\n",
       "    <tr>\n",
       "      <th>1791</th>\n",
       "      <td>Zotter</td>\n",
       "      <td>Congo</td>\n",
       "      <td>749</td>\n",
       "      <td>2011</td>\n",
       "      <td>65%</td>\n",
       "      <td>Austria</td>\n",
       "      <td>3.00</td>\n",
       "      <td>Congo</td>\n",
       "    </tr>\n",
       "    <tr>\n",
       "      <th>1792</th>\n",
       "      <td>Zotter</td>\n",
       "      <td>Kerala State</td>\n",
       "      <td>749</td>\n",
       "      <td>2011</td>\n",
       "      <td>65%</td>\n",
       "      <td>Austria</td>\n",
       "      <td>3.50</td>\n",
       "      <td>India</td>\n",
       "    </tr>\n",
       "    <tr>\n",
       "      <th>1793</th>\n",
       "      <td>Zotter</td>\n",
       "      <td>Kerala State</td>\n",
       "      <td>781</td>\n",
       "      <td>2011</td>\n",
       "      <td>62%</td>\n",
       "      <td>Austria</td>\n",
       "      <td>3.25</td>\n",
       "      <td>India</td>\n",
       "    </tr>\n",
       "    <tr>\n",
       "      <th>1794</th>\n",
       "      <td>Zotter</td>\n",
       "      <td>Brazil, Mitzi Blue</td>\n",
       "      <td>486</td>\n",
       "      <td>2010</td>\n",
       "      <td>65%</td>\n",
       "      <td>Austria</td>\n",
       "      <td>3.00</td>\n",
       "      <td>Brazil</td>\n",
       "    </tr>\n",
       "  </tbody>\n",
       "</table>\n",
       "<p>1795 rows × 8 columns</p>\n",
       "</div>"
      ],
      "text/plain": [
       "       Company Specific Bean Origin/Bar Name   REF  Review Date  \\\n",
       "0     A. Morin                   Agua Grande  1876         2016   \n",
       "1     A. Morin                         Kpime  1676         2015   \n",
       "2     A. Morin                        Atsane  1676         2015   \n",
       "3     A. Morin                         Akata  1680         2015   \n",
       "4     A. Morin                        Quilla  1704         2015   \n",
       "...        ...                           ...   ...          ...   \n",
       "1790    Zotter                          Peru   647         2011   \n",
       "1791    Zotter                         Congo   749         2011   \n",
       "1792    Zotter                  Kerala State   749         2011   \n",
       "1793    Zotter                  Kerala State   781         2011   \n",
       "1794    Zotter            Brazil, Mitzi Blue   486         2010   \n",
       "\n",
       "     Cocoa Percentage Location  Rating Broad Bean Origin  \n",
       "0                 63%   France    3.75          Sao Tome  \n",
       "1                 70%   France    2.75              Togo  \n",
       "2                 70%   France    3.00              Togo  \n",
       "3                 70%   France    3.50              Togo  \n",
       "4                 70%   France    3.50              Peru  \n",
       "...               ...      ...     ...               ...  \n",
       "1790              70%  Austria    3.75              Peru  \n",
       "1791              65%  Austria    3.00             Congo  \n",
       "1792              65%  Austria    3.50             India  \n",
       "1793              62%  Austria    3.25             India  \n",
       "1794              65%  Austria    3.00            Brazil  \n",
       "\n",
       "[1795 rows x 8 columns]"
      ]
     },
     "execution_count": 15,
     "metadata": {},
     "output_type": "execute_result"
    }
   ],
   "source": [
    "# Remove 'Bean Type' column due to high percentage of missing data\n",
    "df_chocolate.drop([\"Bean Type\"], axis=1)"
   ]
  },
  {
   "cell_type": "code",
   "execution_count": null,
   "id": "709bb49e-7d78-4ae9-8bc3-75fc0676c265",
   "metadata": {
    "tags": []
   },
   "outputs": [],
   "source": []
  },
  {
   "cell_type": "code",
   "execution_count": null,
   "id": "a5ab7667-d29b-4ce7-9b84-9aabfee412cd",
   "metadata": {},
   "outputs": [],
   "source": []
  },
  {
   "cell_type": "code",
   "execution_count": null,
   "id": "382cfcd3-2a45-439b-95ba-96e8ec6a0132",
   "metadata": {},
   "outputs": [],
   "source": []
  },
  {
   "cell_type": "code",
   "execution_count": null,
   "id": "08d78ac7-5f2c-4532-aacb-7985f70ea15c",
   "metadata": {},
   "outputs": [],
   "source": []
  },
  {
   "cell_type": "code",
   "execution_count": null,
   "id": "d30539e6-8400-48c9-bd36-622d966aa53b",
   "metadata": {},
   "outputs": [],
   "source": []
  }
 ],
 "metadata": {
  "kernelspec": {
   "display_name": "Python 3",
   "language": "python",
   "name": "python3"
  },
  "language_info": {
   "codemirror_mode": {
    "name": "ipython",
    "version": 3
   },
   "file_extension": ".py",
   "mimetype": "text/x-python",
   "name": "python",
   "nbconvert_exporter": "python",
   "pygments_lexer": "ipython3",
   "version": "3.8.8"
  }
 },
 "nbformat": 4,
 "nbformat_minor": 5
}
